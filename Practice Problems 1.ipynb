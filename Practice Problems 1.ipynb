{
 "cells": [
  {
   "cell_type": "markdown",
   "id": "69e2bd70",
   "metadata": {},
   "source": [
    "##  1) Write a Python program which accepts the radius of a circle from the user and compute the area."
   ]
  },
  {
   "cell_type": "code",
   "execution_count": 1,
   "id": "126d4259",
   "metadata": {},
   "outputs": [
    {
     "name": "stdout",
     "output_type": "stream",
     "text": [
      "Please enter the radius of the given circle: 3\n",
      " The area of the circle is:  28.274333882308138\n"
     ]
    }
   ],
   "source": [
    "import math as m\n",
    "radius = float (input (\"Please enter the radius of the given circle: \")) \n",
    "area = m.pi* radius * radius \n",
    "print (\" The area of the circle is: \", area)"
   ]
  },
  {
   "cell_type": "markdown",
   "id": "50ca2284",
   "metadata": {},
   "source": [
    "## 2) Write a Python Program to accept the details of a student like name, roll number and mark and display it."
   ]
  },
  {
   "cell_type": "code",
   "execution_count": 1,
   "id": "69ab3a9e",
   "metadata": {},
   "outputs": [
    {
     "name": "stdout",
     "output_type": "stream",
     "text": [
      "Enter the name: Anisha\n",
      "Enter the Roll Number: 21\n",
      "Enter the Marks: 78\n",
      "*********************************************\n",
      "Details of the student is:- \n",
      "Name: Anisha\n",
      "Roll number: 21\n",
      "Mark: 78\n"
     ]
    }
   ],
   "source": [
    "name= input(\"Enter the name: \")\n",
    "roll=int(input(\"Enter the Roll Number: \"))\n",
    "mark=int(input(\"Enter the Marks: \"))\n",
    "print('*********************************************')\n",
    "print('Details of the student is:- ')\n",
    "print('Name:', name)\n",
    "print('Roll number:', roll)\n",
    "print('Mark:', mark)"
   ]
  },
  {
   "cell_type": "markdown",
   "id": "09da9bd9",
   "metadata": {},
   "source": [
    "## 3) Write a Python program to get the largest number from a list."
   ]
  },
  {
   "cell_type": "code",
   "execution_count": 4,
   "id": "4002cbfb",
   "metadata": {},
   "outputs": [
    {
     "name": "stdout",
     "output_type": "stream",
     "text": [
      "Enter the number of elements: 4\n",
      "Enter the elements: 12\n",
      "Enter the elements: 3\n",
      "Enter the elements: 47\n",
      "Enter the elements: 10\n",
      "*****************************************\n",
      "Largest element is:  47\n"
     ]
    }
   ],
   "source": [
    "list1=[]\n",
    "num=int(input('Enter the number of elements: '))\n",
    "for i in range(1,num+1):\n",
    "    value=int(input(\"Enter the elements: \"))\n",
    "    list1.append(value)\n",
    "print('*****************************************')\n",
    "print(\"Largest element is: \", max(list1))"
   ]
  },
  {
   "cell_type": "markdown",
   "id": "9e5d807c",
   "metadata": {},
   "source": [
    "## 4) Given a range of first 10 numbers, write a Python program to iterate from start number to  the end number and print the sum of the current number and previous number. "
   ]
  },
  {
   "cell_type": "code",
   "execution_count": 5,
   "id": "d3b58626",
   "metadata": {},
   "outputs": [
    {
     "name": "stdout",
     "output_type": "stream",
     "text": [
      "Current number is  0 , Previous Number is  0 , Sum is  0\n",
      "Current number is  1 , Previous Number is  0 , Sum is  1\n",
      "Current number is  2 , Previous Number is  1 , Sum is  3\n",
      "Current number is  3 , Previous Number is  2 , Sum is  5\n",
      "Current number is  4 , Previous Number is  3 , Sum is  7\n",
      "Current number is  5 , Previous Number is  4 , Sum is  9\n",
      "Current number is  6 , Previous Number is  5 , Sum is  11\n",
      "Current number is  7 , Previous Number is  6 , Sum is  13\n",
      "Current number is  8 , Previous Number is  7 , Sum is  15\n",
      "Current number is  9 , Previous Number is  8 , Sum is  17\n"
     ]
    }
   ],
   "source": [
    "previous_num = 0\n",
    "for i in range(10):\n",
    "    sum = previous_num + i\n",
    "    print(\"Current number is \",i, \", Previous Number is \",previous_num, \", Sum is \",sum)\n",
    "    previous_num = i"
   ]
  },
  {
   "cell_type": "markdown",
   "id": "7153dac0",
   "metadata": {},
   "source": [
    "## 5) Write a Python program to print only those numbers which are divisible of 5. "
   ]
  },
  {
   "cell_type": "code",
   "execution_count": 6,
   "id": "b929784d",
   "metadata": {},
   "outputs": [
    {
     "name": "stdout",
     "output_type": "stream",
     "text": [
      "Enter number of elements: 5\n",
      "Enter the 5 elements: \n",
      "10\n",
      "20\n",
      "33\n",
      "46\n",
      "55\n",
      "From the given numbers  [10, 20, 33, 46, 55] the numbers divisible by 5 are  [10, 20, 55]\n"
     ]
    }
   ],
   "source": [
    "n = int (input (\"Enter number of elements: \")) \n",
    "list1=[]\n",
    "listy= []\n",
    "print(\"Enter the\",n,\"elements: \")\n",
    "for i in range (n):\n",
    "    x = int(input())\n",
    "    list1.append(x)\n",
    "    if x%5==0:\n",
    "        listy.append(x)\n",
    "print(\"From the given numbers \",list1,\"the numbers divisible by 5 are \",listy)"
   ]
  },
  {
   "cell_type": "markdown",
   "id": "63b3314f",
   "metadata": {},
   "source": [
    "## 6) Write a Python program to check whether a number is prime or not. "
   ]
  },
  {
   "cell_type": "code",
   "execution_count": 8,
   "id": "73dd1044",
   "metadata": {},
   "outputs": [
    {
     "name": "stdout",
     "output_type": "stream",
     "text": [
      "Enter a number: 3\n",
      "3 is a prime number\n"
     ]
    }
   ],
   "source": [
    "num = int(input(\"Enter a number: \"))\n",
    "if num > 1:\n",
    "    for i in range(2,num):\n",
    "        if (num % i) == 0:\n",
    "            print(num, \"is not a prime number\")\n",
    "            break\n",
    "    else:\n",
    "        print(num, \"is a prime number\")\n",
    "else:\n",
    "    print(num, \"is not a prime number\")"
   ]
  },
  {
   "cell_type": "markdown",
   "id": "923e78d5",
   "metadata": {},
   "source": [
    "## 7) Write a Python program to reverse a list using for loop. "
   ]
  },
  {
   "cell_type": "code",
   "execution_count": 10,
   "id": "85d2fc41",
   "metadata": {},
   "outputs": [
    {
     "name": "stdout",
     "output_type": "stream",
     "text": [
      "Enter number of elements: 4\n",
      "Enter the 4 elements: \n",
      "10\n",
      "40\n",
      "30\n",
      "70\n",
      "Given list is  [10, 40, 30, 70] and Reversed list is  [70, 30, 40, 10]\n"
     ]
    }
   ],
   "source": [
    "n = int (input (\"Enter number of elements: \")) \n",
    "list1=[]\n",
    "listy= []\n",
    "print(\"Enter the\",n,\"elements: \")\n",
    "for i in range (n):\n",
    "    x = int(input())\n",
    "    list1.append(x)\n",
    "for i in list1:\n",
    "    listy = [i] + listy\n",
    "print(\"Given list is \", list1 ,\"and Reversed list is \",listy)"
   ]
  },
  {
   "cell_type": "markdown",
   "id": "9779c237",
   "metadata": {},
   "source": [
    "## 8) Write a Python program to print the following pattern.\n",
    "## *\n",
    "## **\n",
    "## ***\n",
    "## ****\n"
   ]
  },
  {
   "cell_type": "code",
   "execution_count": 11,
   "id": "9cf49508",
   "metadata": {},
   "outputs": [
    {
     "name": "stdout",
     "output_type": "stream",
     "text": [
      "* \n",
      "* * \n",
      "* * * \n",
      "* * * * \n",
      "* * * * * \n"
     ]
    }
   ],
   "source": [
    "n = 5\n",
    "for i in range(0, n):\n",
    "    for j in range(0, i+1):\n",
    "        print(\"*\", end=\" \")\n",
    "    print()"
   ]
  },
  {
   "cell_type": "markdown",
   "id": "71140717",
   "metadata": {},
   "source": [
    "## 9) Write a Python program to find the maximum of three numbers."
   ]
  },
  {
   "cell_type": "code",
   "execution_count": 12,
   "id": "a1c0508f",
   "metadata": {},
   "outputs": [
    {
     "name": "stdout",
     "output_type": "stream",
     "text": [
      "Enter first number: 34\n",
      "Enter second number: 12\n",
      "Enter third number: 7\n",
      "The largest number is 34\n"
     ]
    }
   ],
   "source": [
    "num1 = int(input(\"Enter first number: \"))\n",
    "num2 = int(input(\"Enter second number: \"))\n",
    "num3 = int(input(\"Enter third number: \"))\n",
    "\n",
    "if (num1 >= num2) and (num1 >= num3):\n",
    "   largest = num1\n",
    "elif (num2 >= num1) and (num2 >= num3):\n",
    "   largest = num2\n",
    "else:\n",
    "   largest = num3\n",
    "\n",
    "print(\"The largest number is\", largest)"
   ]
  },
  {
   "cell_type": "markdown",
   "id": "17763c60",
   "metadata": {},
   "source": [
    "## 10) Write a Python program to construct the following pattern, using a nested for loop. \n",
    "## *\n",
    "## **\n",
    "## ***\n",
    "## ****\n",
    "## *****\n",
    "## ****\n",
    "## ***\n",
    "## **\n",
    "## *"
   ]
  },
  {
   "cell_type": "code",
   "execution_count": 13,
   "id": "efd8390d",
   "metadata": {},
   "outputs": [
    {
     "name": "stdout",
     "output_type": "stream",
     "text": [
      "\n",
      "* \n",
      "* * \n",
      "* * * \n",
      "* * * * \n",
      "* * * * * \n",
      "* * * * \n",
      "* * * \n",
      "* * \n",
      "* \n"
     ]
    }
   ],
   "source": [
    "n=5;\n",
    "for i in range(n):\n",
    "    for j in range(i):\n",
    "        print ('* ', end=\"\")\n",
    "    print('')\n",
    "\n",
    "for i in range(n,0,-1):\n",
    "    for j in range(i):\n",
    "        print('* ', end=\"\")\n",
    "    print('')\n",
    "\t"
   ]
  },
  {
   "cell_type": "code",
   "execution_count": null,
   "id": "fb278046",
   "metadata": {},
   "outputs": [],
   "source": []
  }
 ],
 "metadata": {
  "kernelspec": {
   "display_name": "Python 3 (ipykernel)",
   "language": "python",
   "name": "python3"
  },
  "language_info": {
   "codemirror_mode": {
    "name": "ipython",
    "version": 3
   },
   "file_extension": ".py",
   "mimetype": "text/x-python",
   "name": "python",
   "nbconvert_exporter": "python",
   "pygments_lexer": "ipython3",
   "version": "3.11.3"
  }
 },
 "nbformat": 4,
 "nbformat_minor": 5
}
